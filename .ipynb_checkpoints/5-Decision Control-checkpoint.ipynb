{
 "cells": [
  {
   "cell_type": "code",
   "execution_count": 1,
   "metadata": {},
   "outputs": [
    {
     "name": "stdout",
     "output_type": "stream",
     "text": [
      "1 is less than 10!!\n"
     ]
    }
   ],
   "source": [
    "if 1<10:\n",
    "    print(\"1 is less than 10!!\")"
   ]
  },
  {
   "cell_type": "code",
   "execution_count": 12,
   "metadata": {},
   "outputs": [
    {
     "name": "stdout",
     "output_type": "stream",
     "text": [
      "Enter Price: 10000\n",
      "Enter Quantity: 4\n",
      "10 discount is applicable\n",
      "Amount payable:  36000.0\n"
     ]
    }
   ],
   "source": [
    "price=int(input(\"Enter Price: \"))\n",
    "qty=int(input(\"Enter Quantity: \"))\n",
    "amt=price*qty\n",
    "if amt>1000:\n",
    "    print(\"10 discount is applicable\")\n",
    "    discount=(amt*10)/100\n",
    "    amt=amt-discount\n",
    "print (\"Amount payable: \",amt)"
   ]
  },
  {
   "cell_type": "code",
   "execution_count": 14,
   "metadata": {},
   "outputs": [
    {
     "name": "stdout",
     "output_type": "stream",
     "text": [
      "X is 10\n"
     ]
    }
   ],
   "source": [
    "x=10\n",
    "if x==1:\n",
    "    print('X is 1')\n",
    "elif x==5:\n",
    "    print('X is 5')\n",
    "elif x==10:\n",
    "    print('X is 10')\n",
    "else:\n",
    "    print('X is something else')"
   ]
  },
  {
   "cell_type": "code",
   "execution_count": null,
   "metadata": {},
   "outputs": [],
   "source": []
  }
 ],
 "metadata": {
  "kernelspec": {
   "display_name": "Python 3",
   "language": "python",
   "name": "python3"
  },
  "language_info": {
   "codemirror_mode": {
    "name": "ipython",
    "version": 3
   },
   "file_extension": ".py",
   "mimetype": "text/x-python",
   "name": "python",
   "nbconvert_exporter": "python",
   "pygments_lexer": "ipython3",
   "version": "3.6.5"
  }
 },
 "nbformat": 4,
 "nbformat_minor": 2
}
