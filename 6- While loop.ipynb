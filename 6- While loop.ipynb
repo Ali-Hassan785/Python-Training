{
 "cells": [
  {
   "cell_type": "code",
   "execution_count": 2,
   "metadata": {},
   "outputs": [
    {
     "name": "stdout",
     "output_type": "stream",
     "text": [
      "enter any number .. -1 to exit\n",
      "1\n",
      "enter any number .. -1 to exit\n",
      "1\n",
      "enter any number .. -1 to exit\n",
      "1\n",
      "enter any number .. -1 to exit\n",
      "1\n",
      "enter any number .. -1 to exit\n",
      "1\n",
      "enter any number .. -1 to exit\n",
      "34\n",
      "enter any number .. -1 to exit\n",
      "34\n",
      "enter any number .. -1 to exit\n",
      "43\n",
      "enter any number .. -1 to exit\n",
      "34\n",
      "enter any number .. -1 to exit\n",
      "34\n",
      "enter any number .. -1 to exit\n",
      "-1\n",
      "numbers input: 10 average: 18.4\n"
     ]
    }
   ],
   "source": [
    "num=0\n",
    "count=0\n",
    "sum=0\n",
    "while num>=0:\n",
    "    num=int(input(\"enter any number .. -1 to exit\\n\"))\n",
    "    if num>=0:\n",
    "        count=count+1 #this counts number of inputs \n",
    "        sum=sum+num # this adds input number cumulatively. \n",
    "avg=sum/count\n",
    "print (\"numbers input:\",count, \"average:\",avg)"
   ]
  },
  {
   "cell_type": "code",
   "execution_count": 3,
   "metadata": {},
   "outputs": [
    {
     "name": "stdout",
     "output_type": "stream",
     "text": [
      "10\n",
      "twenty\n",
      "30\n",
      "fourty\n",
      "50\n"
     ]
    }
   ],
   "source": [
    "mytuple=(10, \"twenty\", 30, \"fourty\", 50)\n",
    "for i in mytuple:\n",
    "    print(i)"
   ]
  },
  {
   "cell_type": "code",
   "execution_count": null,
   "metadata": {},
   "outputs": [],
   "source": []
  }
 ],
 "metadata": {
  "kernelspec": {
   "display_name": "Python 3",
   "language": "python",
   "name": "python3"
  },
  "language_info": {
   "codemirror_mode": {
    "name": "ipython",
    "version": 3
   },
   "file_extension": ".py",
   "mimetype": "text/x-python",
   "name": "python",
   "nbconvert_exporter": "python",
   "pygments_lexer": "ipython3",
   "version": "3.6.5"
  }
 },
 "nbformat": 4,
 "nbformat_minor": 2
}
